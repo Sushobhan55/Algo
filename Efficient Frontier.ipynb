{
  "nbformat": 4,
  "nbformat_minor": 0,
  "metadata": {
    "colab": {
      "name": "Content_1",
      "provenance": [],
      "authorship_tag": "ABX9TyMaizNyMzWyk5kxvAKHQ1RI",
      "include_colab_link": true
    },
    "kernelspec": {
      "name": "python3",
      "display_name": "Python 3"
    }
  },
  "cells": [
    {
      "cell_type": "markdown",
      "metadata": {
        "id": "view-in-github",
        "colab_type": "text"
      },
      "source": [
        "<a href=\"https://colab.research.google.com/github/Sushobhan55/Algo/blob/master/Efficient%20Frontier.ipynb\" target=\"_parent\"><img src=\"https://colab.research.google.com/assets/colab-badge.svg\" alt=\"Open In Colab\"/></a>"
      ]
    },
    {
      "cell_type": "code",
      "metadata": {
        "id": "OhcwOM7gPrHY"
      },
      "source": [
        "#This program optimizes a stock portfolio using the Efficient Frontier"
      ],
      "execution_count": null,
      "outputs": []
    },
    {
      "cell_type": "code",
      "metadata": {
        "id": "RZVMVsaw_U3_"
      },
      "source": [
        "# import the required libraries\r\n",
        "import pandas as pd\r\n",
        "import numpy as np\r\n",
        "import pandas_datareader.data as web\r\n",
        "import datetime as dt\r\n",
        "import seaborn as sns"
      ],
      "execution_count": null,
      "outputs": []
    },
    {
      "cell_type": "code",
      "metadata": {
        "id": "iSKWxoC7C3Qy"
      },
      "source": [
        "#get the start and end dates for the stocks for backtesting\r\n",
        "start = dt.datetime(2016,1,1)\r\n",
        "end = dt.datetime.now()"
      ],
      "execution_count": null,
      "outputs": []
    },
    {
      "cell_type": "code",
      "metadata": {
        "id": "dvi_IxRpEgeu"
      },
      "source": [
        "#get the tickers in the portfolio\r\n",
        "tickers = ['AAPL','AMZN','GM','JNJ','NVDA','TXN','TSLA','SWKS','MS','ETSY','CLX','NFLX','LUV','XOM','TSM','GOOGL','DIS','JPM','PG','TDOC']"
      ],
      "execution_count": null,
      "outputs": []
    },
    {
      "cell_type": "code",
      "metadata": {
        "id": "jsb94L4EPTPM"
      },
      "source": [
        "#assign weights to the stocks\r\n",
        "weights = np.array(20*[0.05])"
      ],
      "execution_count": null,
      "outputs": []
    },
    {
      "cell_type": "code",
      "metadata": {
        "id": "TBdjddzBV3mV"
      },
      "source": [
        "#create a dataframe to store the adjusted close price of the stocks\r\n",
        "my_portfolio = pd.DataFrame()"
      ],
      "execution_count": null,
      "outputs": []
    },
    {
      "cell_type": "code",
      "metadata": {
        "id": "9apGJlNFWeMz"
      },
      "source": [
        "#store the adjusted close price of the stock into the dataframe\r\n",
        "for ticker in tickers:\r\n",
        "  my_portfolio[ticker]=web.DataReader(ticker,'yahoo',start,end)['Adj Close']"
      ],
      "execution_count": null,
      "outputs": []
    },
    {
      "cell_type": "code",
      "metadata": {
        "id": "OZdXJ99uX_mC"
      },
      "source": [
        "my_portfolio.head()"
      ],
      "execution_count": null,
      "outputs": []
    },
    {
      "cell_type": "code",
      "metadata": {
        "id": "Z8VyhnvhXLh4"
      },
      "source": [
        "#visualize the portfolio\r\n",
        "sns.set_style('whitegrid')\r\n",
        "chart= sns.lineplot(data=my_portfolio)\r\n",
        "chart.set_title('Price history of stocks in My Portfolio')\r\n",
        "chart.set_ylabel('Adj Close in USD')"
      ],
      "execution_count": null,
      "outputs": []
    },
    {
      "cell_type": "code",
      "metadata": {
        "id": "WAzfXyaCdElU"
      },
      "source": [
        "#store the daily returns on individual stocks\r\n",
        "returns = my_portfolio.pct_change()\r\n",
        "returns = returns.dropna()\r\n",
        "returns"
      ],
      "execution_count": null,
      "outputs": []
    },
    {
      "cell_type": "code",
      "metadata": {
        "id": "4dfjtSl9cO0e"
      },
      "source": [
        "#create the annualized variance-covariance matrix\r\n",
        "annual_varcov_matrix = returns.cov()*252\r\n",
        "annual_varcov_matrix"
      ],
      "execution_count": null,
      "outputs": []
    },
    {
      "cell_type": "code",
      "metadata": {
        "colab": {
          "base_uri": "https://localhost:8080/"
        },
        "id": "xfCsSozlf0d2",
        "outputId": "be8da5d4-cc71-4f9d-cc74-e3383a92ada4"
      },
      "source": [
        "#calculate the portfolio variance\r\n",
        "portfolio_var = np.dot(weights.T, np.dot(annual_varcov_matrix, weights))\r\n",
        "portfolio_var"
      ],
      "execution_count": null,
      "outputs": [
        {
          "output_type": "execute_result",
          "data": {
            "text/plain": [
              "0.04676055267067325"
            ]
          },
          "metadata": {
            "tags": []
          },
          "execution_count": 251
        }
      ]
    },
    {
      "cell_type": "code",
      "metadata": {
        "colab": {
          "base_uri": "https://localhost:8080/"
        },
        "id": "oBpVn18VlZf6",
        "outputId": "259102f8-4fec-40f2-a91c-5eece78cff12"
      },
      "source": [
        "#calculate the portfolio volatility/standard deviation\r\n",
        "portfolio_vol = np.sqrt(portfolio_var)\r\n",
        "portfolio_vol"
      ],
      "execution_count": null,
      "outputs": [
        {
          "output_type": "execute_result",
          "data": {
            "text/plain": [
              "0.21624188463540833"
            ]
          },
          "metadata": {
            "tags": []
          },
          "execution_count": 252
        }
      ]
    },
    {
      "cell_type": "code",
      "metadata": {
        "colab": {
          "base_uri": "https://localhost:8080/"
        },
        "id": "aXolb_Nzlw5T",
        "outputId": "e3c730bd-d9ad-45dc-c629-9598e5262550"
      },
      "source": [
        "#calcualte the annual portfolio return\r\n",
        "annual_potfolio_return = np.sum(returns.mean()*weights) * 252\r\n",
        "annual_potfolio_return"
      ],
      "execution_count": null,
      "outputs": [
        {
          "output_type": "execute_result",
          "data": {
            "text/plain": [
              "0.3367423961017082"
            ]
          },
          "metadata": {
            "tags": []
          },
          "execution_count": 253
        }
      ]
    },
    {
      "cell_type": "code",
      "metadata": {
        "colab": {
          "base_uri": "https://localhost:8080/"
        },
        "id": "S2RtIM41pqq3",
        "outputId": "67914f6a-4fb7-48f2-ead3-a4dfdb08cb8b"
      },
      "source": [
        "#show the expected return and risk(volatility) \r\n",
        "print('Expected annual return: ',round(annual_potfolio_return,2)*100,'%')\r\n",
        "print('Risk/Annual volatility: ',round(portfolio_vol,2)*100,'%')"
      ],
      "execution_count": null,
      "outputs": [
        {
          "output_type": "stream",
          "text": [
            "Expected annual return:  34.0 %\n",
            "Risk/Annual volatility:  22.0 %\n"
          ],
          "name": "stdout"
        }
      ]
    },
    {
      "cell_type": "code",
      "metadata": {
        "id": "JjW6FspWrebg"
      },
      "source": [
        "#we need higher return for a lower risk\r\n",
        "#now we optimize the portfolio by using a library PyPortfolioOpt"
      ],
      "execution_count": null,
      "outputs": []
    },
    {
      "cell_type": "code",
      "metadata": {
        "id": "MkG1NUSHsweB"
      },
      "source": [
        "pip install PyPortfolioOpt"
      ],
      "execution_count": null,
      "outputs": []
    },
    {
      "cell_type": "code",
      "metadata": {
        "id": "Yfr5FhbUtLNV"
      },
      "source": [
        "#import the libraries for portfolio optimization \r\n",
        "from pypfopt.efficient_frontier import EfficientFrontier\r\n",
        "from pypfopt import risk_models\r\n",
        "from pypfopt import expected_returns\r\n",
        "from pypfopt import objective_functions"
      ],
      "execution_count": null,
      "outputs": []
    },
    {
      "cell_type": "code",
      "metadata": {
        "id": "jskzueICuDPl"
      },
      "source": [
        "#calculate the expected return and \r\n",
        "#the annualized sample covariance matrix of individual returns\r\n",
        "mu = expected_returns.mean_historical_return(my_portfolio)\r\n",
        "S = risk_models.sample_cov(my_portfolio)"
      ],
      "execution_count": null,
      "outputs": []
    },
    {
      "cell_type": "code",
      "metadata": {
        "colab": {
          "base_uri": "https://localhost:8080/"
        },
        "id": "v7SbOIK3vd9n",
        "outputId": "0f7704a7-8ae9-4d09-b32a-6a00c56fbb73"
      },
      "source": [
        "#optimize for maximum sharpe ratio\r\n",
        "ef = EfficientFrontier(mu,S)\r\n",
        "ef.add_objective(objective_functions.L2_reg, gamma=2)\r\n",
        "weights = ef.max_sharpe()\r\n",
        "cleaned_weights = ef.clean_weights()\r\n",
        "ef.portfolio_performance(verbose = True)\r\n",
        "print(cleaned_weights)"
      ],
      "execution_count": null,
      "outputs": [
        {
          "output_type": "stream",
          "text": [
            "Expected annual return: 59.1%\n",
            "Annual volatility: 28.3%\n",
            "Sharpe Ratio: 2.02\n",
            "OrderedDict([('AAPL', 0.0613), ('AMZN', 0.05755), ('GM', 0.00706), ('JNJ', 0.01615), ('NVDA', 0.13686), ('TXN', 0.04026), ('TSLA', 0.12862), ('SWKS', 0.01127), ('MS', 0.02175), ('ETSY', 0.16372), ('CLX', 0.01416), ('NFLX', 0.05125), ('LUV', 0.0), ('XOM', 0.0), ('TSM', 0.08699), ('GOOGL', 0.02333), ('DIS', 0.01152), ('JPM', 0.02609), ('PG', 0.01762), ('TDOC', 0.12447)])\n"
          ],
          "name": "stdout"
        },
        {
          "output_type": "stream",
          "text": [
            "/usr/local/lib/python3.6/dist-packages/pypfopt/efficient_frontier.py:248: UserWarning: max_sharpe transforms the optimisation problem so additional objectives may not work as expected.\n",
            "  \"max_sharpe transforms the optimisation problem so additional objectives may not work as expected.\"\n"
          ],
          "name": "stderr"
        }
      ]
    },
    {
      "cell_type": "code",
      "metadata": {
        "colab": {
          "base_uri": "https://localhost:8080/"
        },
        "id": "6c61Dkm3yXXP",
        "outputId": "65724f7e-7880-49af-b4fd-a6d862e7c183"
      },
      "source": [
        "#get the discrete allocation of each share per stock\r\n",
        "from pypfopt.discrete_allocation import DiscreteAllocation, get_latest_prices\r\n",
        "latest_prices = get_latest_prices(my_portfolio)\r\n",
        "weights=cleaned_weights\r\n",
        "da = DiscreteAllocation(weights,latest_prices, total_portfolio_value=1000000)\r\n",
        "allocation , leftover = da.lp_portfolio()\r\n",
        "print('Discrete allocation: ', allocation)\r\n",
        "print('Funds remaining: ${:.2f}'.format(leftover))"
      ],
      "execution_count": null,
      "outputs": [
        {
          "output_type": "stream",
          "text": [
            "Discrete allocation:  {'AAPL': 460, 'AMZN': 18, 'GM': 132, 'JNJ': 97, 'NVDA': 223, 'TXN': 222, 'TSLA': 161, 'SWKS': 58, 'MS': 286, 'ETSY': 717, 'CLX': 77, 'NFLX': 92, 'TSM': 621, 'GOOGL': 11, 'DIS': 62, 'JPM': 180, 'PG': 137, 'TDOC': 427}\n",
            "Funds remaining: $2.28\n"
          ],
          "name": "stdout"
        }
      ]
    },
    {
      "cell_type": "code",
      "metadata": {
        "id": "9NPuvXWVz89q"
      },
      "source": [
        ""
      ],
      "execution_count": null,
      "outputs": []
    }
  ]
}